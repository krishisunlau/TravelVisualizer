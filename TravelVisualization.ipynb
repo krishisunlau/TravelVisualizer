{
  "nbformat": 4,
  "nbformat_minor": 0,
  "metadata": {
    "colab": {
      "provenance": []
    },
    "kernelspec": {
      "name": "python3",
      "display_name": "Python 3"
    },
    "language_info": {
      "name": "python"
    }
  },
  "cells": [
    {
      "cell_type": "markdown",
      "source": [
        "Creator: Krishita Laungani\n",
        "\n",
        "This mini-software allows the user to compare Air Fare from the Airport they want to travel from. They are able to compare prices based on Airline Company, Type of Seat, and the Destination Airport. This can allow the user to compare prices to see which destination or company best fits their budget. After analyzing the data, the user can also input the number of days they are traveling and their budget to see which destination would be the most cost-effective for them.\n",
        "\n",
        "\n",
        "---\n",
        "dataset: https://www.kaggle.com/datasets/dilwong/flightprices cleaning done on excel\n",
        "\n",
        "dataset for daily cost of living taken from part of: https://ballotpedia.org/Analysis_of_spending_in_America%27s_largest_cities"
      ],
      "metadata": {
        "id": "bcnnPiJx4Kt2"
      }
    },
    {
      "cell_type": "code",
      "execution_count": 1,
      "metadata": {
        "colab": {
          "base_uri": "https://localhost:8080/",
          "height": 109
        },
        "id": "L1MPMhAHrYLt",
        "outputId": "3ecfb109-a08e-4077-bf56-6c261e68c259"
      },
      "outputs": [
        {
          "output_type": "display_data",
          "data": {
            "text/plain": [
              "<IPython.core.display.HTML object>"
            ],
            "text/html": [
              "\n",
              "     <input type=\"file\" id=\"files-0e1b557f-4318-4e71-81aa-a34df13f951f\" name=\"files[]\" multiple disabled\n",
              "        style=\"border:none\" />\n",
              "     <output id=\"result-0e1b557f-4318-4e71-81aa-a34df13f951f\">\n",
              "      Upload widget is only available when the cell has been executed in the\n",
              "      current browser session. Please rerun this cell to enable.\n",
              "      </output>\n",
              "      <script>// Copyright 2017 Google LLC\n",
              "//\n",
              "// Licensed under the Apache License, Version 2.0 (the \"License\");\n",
              "// you may not use this file except in compliance with the License.\n",
              "// You may obtain a copy of the License at\n",
              "//\n",
              "//      http://www.apache.org/licenses/LICENSE-2.0\n",
              "//\n",
              "// Unless required by applicable law or agreed to in writing, software\n",
              "// distributed under the License is distributed on an \"AS IS\" BASIS,\n",
              "// WITHOUT WARRANTIES OR CONDITIONS OF ANY KIND, either express or implied.\n",
              "// See the License for the specific language governing permissions and\n",
              "// limitations under the License.\n",
              "\n",
              "/**\n",
              " * @fileoverview Helpers for google.colab Python module.\n",
              " */\n",
              "(function(scope) {\n",
              "function span(text, styleAttributes = {}) {\n",
              "  const element = document.createElement('span');\n",
              "  element.textContent = text;\n",
              "  for (const key of Object.keys(styleAttributes)) {\n",
              "    element.style[key] = styleAttributes[key];\n",
              "  }\n",
              "  return element;\n",
              "}\n",
              "\n",
              "// Max number of bytes which will be uploaded at a time.\n",
              "const MAX_PAYLOAD_SIZE = 100 * 1024;\n",
              "\n",
              "function _uploadFiles(inputId, outputId) {\n",
              "  const steps = uploadFilesStep(inputId, outputId);\n",
              "  const outputElement = document.getElementById(outputId);\n",
              "  // Cache steps on the outputElement to make it available for the next call\n",
              "  // to uploadFilesContinue from Python.\n",
              "  outputElement.steps = steps;\n",
              "\n",
              "  return _uploadFilesContinue(outputId);\n",
              "}\n",
              "\n",
              "// This is roughly an async generator (not supported in the browser yet),\n",
              "// where there are multiple asynchronous steps and the Python side is going\n",
              "// to poll for completion of each step.\n",
              "// This uses a Promise to block the python side on completion of each step,\n",
              "// then passes the result of the previous step as the input to the next step.\n",
              "function _uploadFilesContinue(outputId) {\n",
              "  const outputElement = document.getElementById(outputId);\n",
              "  const steps = outputElement.steps;\n",
              "\n",
              "  const next = steps.next(outputElement.lastPromiseValue);\n",
              "  return Promise.resolve(next.value.promise).then((value) => {\n",
              "    // Cache the last promise value to make it available to the next\n",
              "    // step of the generator.\n",
              "    outputElement.lastPromiseValue = value;\n",
              "    return next.value.response;\n",
              "  });\n",
              "}\n",
              "\n",
              "/**\n",
              " * Generator function which is called between each async step of the upload\n",
              " * process.\n",
              " * @param {string} inputId Element ID of the input file picker element.\n",
              " * @param {string} outputId Element ID of the output display.\n",
              " * @return {!Iterable<!Object>} Iterable of next steps.\n",
              " */\n",
              "function* uploadFilesStep(inputId, outputId) {\n",
              "  const inputElement = document.getElementById(inputId);\n",
              "  inputElement.disabled = false;\n",
              "\n",
              "  const outputElement = document.getElementById(outputId);\n",
              "  outputElement.innerHTML = '';\n",
              "\n",
              "  const pickedPromise = new Promise((resolve) => {\n",
              "    inputElement.addEventListener('change', (e) => {\n",
              "      resolve(e.target.files);\n",
              "    });\n",
              "  });\n",
              "\n",
              "  const cancel = document.createElement('button');\n",
              "  inputElement.parentElement.appendChild(cancel);\n",
              "  cancel.textContent = 'Cancel upload';\n",
              "  const cancelPromise = new Promise((resolve) => {\n",
              "    cancel.onclick = () => {\n",
              "      resolve(null);\n",
              "    };\n",
              "  });\n",
              "\n",
              "  // Wait for the user to pick the files.\n",
              "  const files = yield {\n",
              "    promise: Promise.race([pickedPromise, cancelPromise]),\n",
              "    response: {\n",
              "      action: 'starting',\n",
              "    }\n",
              "  };\n",
              "\n",
              "  cancel.remove();\n",
              "\n",
              "  // Disable the input element since further picks are not allowed.\n",
              "  inputElement.disabled = true;\n",
              "\n",
              "  if (!files) {\n",
              "    return {\n",
              "      response: {\n",
              "        action: 'complete',\n",
              "      }\n",
              "    };\n",
              "  }\n",
              "\n",
              "  for (const file of files) {\n",
              "    const li = document.createElement('li');\n",
              "    li.append(span(file.name, {fontWeight: 'bold'}));\n",
              "    li.append(span(\n",
              "        `(${file.type || 'n/a'}) - ${file.size} bytes, ` +\n",
              "        `last modified: ${\n",
              "            file.lastModifiedDate ? file.lastModifiedDate.toLocaleDateString() :\n",
              "                                    'n/a'} - `));\n",
              "    const percent = span('0% done');\n",
              "    li.appendChild(percent);\n",
              "\n",
              "    outputElement.appendChild(li);\n",
              "\n",
              "    const fileDataPromise = new Promise((resolve) => {\n",
              "      const reader = new FileReader();\n",
              "      reader.onload = (e) => {\n",
              "        resolve(e.target.result);\n",
              "      };\n",
              "      reader.readAsArrayBuffer(file);\n",
              "    });\n",
              "    // Wait for the data to be ready.\n",
              "    let fileData = yield {\n",
              "      promise: fileDataPromise,\n",
              "      response: {\n",
              "        action: 'continue',\n",
              "      }\n",
              "    };\n",
              "\n",
              "    // Use a chunked sending to avoid message size limits. See b/62115660.\n",
              "    let position = 0;\n",
              "    do {\n",
              "      const length = Math.min(fileData.byteLength - position, MAX_PAYLOAD_SIZE);\n",
              "      const chunk = new Uint8Array(fileData, position, length);\n",
              "      position += length;\n",
              "\n",
              "      const base64 = btoa(String.fromCharCode.apply(null, chunk));\n",
              "      yield {\n",
              "        response: {\n",
              "          action: 'append',\n",
              "          file: file.name,\n",
              "          data: base64,\n",
              "        },\n",
              "      };\n",
              "\n",
              "      let percentDone = fileData.byteLength === 0 ?\n",
              "          100 :\n",
              "          Math.round((position / fileData.byteLength) * 100);\n",
              "      percent.textContent = `${percentDone}% done`;\n",
              "\n",
              "    } while (position < fileData.byteLength);\n",
              "  }\n",
              "\n",
              "  // All done.\n",
              "  yield {\n",
              "    response: {\n",
              "      action: 'complete',\n",
              "    }\n",
              "  };\n",
              "}\n",
              "\n",
              "scope.google = scope.google || {};\n",
              "scope.google.colab = scope.google.colab || {};\n",
              "scope.google.colab._files = {\n",
              "  _uploadFiles,\n",
              "  _uploadFilesContinue,\n",
              "};\n",
              "})(self);\n",
              "</script> "
            ]
          },
          "metadata": {}
        },
        {
          "output_type": "stream",
          "name": "stdout",
          "text": [
            "Saving daycost - Sheet2.csv to daycost - Sheet2.csv\n",
            "Saving flight_details.csv to flight_details.csv\n"
          ]
        }
      ],
      "source": [
        "from google.colab import files\n",
        "uploaded = files.upload()"
      ]
    },
    {
      "cell_type": "code",
      "source": [
        "import pandas as pd\n",
        "import matplotlib.pyplot as plt\n",
        "\n",
        "import io"
      ],
      "metadata": {
        "id": "4cGbFNh6rfaP"
      },
      "execution_count": 5,
      "outputs": []
    },
    {
      "cell_type": "code",
      "source": [
        "df1 = pd.read_csv(io.BytesIO(uploaded['daycost - Sheet2.csv']))\n",
        "#print(df1.head())\n",
        "#%load_ext sql\n",
        "%sql sqlite://\n",
        "%sql --persist df1\n",
        "print('Disclaimer: JFK, LGA, and EWR do not fly to each other within this context')\n",
        "%sql SELECT city, airport_code FROM df1\n"
      ],
      "metadata": {
        "colab": {
          "base_uri": "https://localhost:8080/",
          "height": 411
        },
        "id": "UV3yfEzyro3X",
        "outputId": "78bd7101-1af8-4868-9b0e-d1ad1652df03"
      },
      "execution_count": 9,
      "outputs": [
        {
          "output_type": "stream",
          "name": "stdout",
          "text": [
            " * sqlite://\n",
            "Disclaimer: JFK, LGA, and EWR do not fly to each other within this context\n",
            " * sqlite://\n",
            "Done.\n"
          ]
        },
        {
          "output_type": "execute_result",
          "data": {
            "text/plain": [
              "[('Atlanta', 'ATL'),\n",
              " ('Boston', 'BOS'),\n",
              " ('Chicago', 'ORD'),\n",
              " ('Dallas', 'DFW'),\n",
              " ('Denver', 'DEN'),\n",
              " ('Detroit', 'DTW'),\n",
              " ('Los Angeles', 'LAX'),\n",
              " ('Miami', 'MIA'),\n",
              " ('New York', 'JFK'),\n",
              " ('Newark', 'EWR'),\n",
              " ('Oakland', 'OAK'),\n",
              " ('Philadelphia', 'PHL'),\n",
              " ('San Francisco', 'SFO'),\n",
              " ('Washington DC', 'IAD')]"
            ],
            "text/html": [
              "<table>\n",
              "    <thead>\n",
              "        <tr>\n",
              "            <th>city</th>\n",
              "            <th>airport_code</th>\n",
              "        </tr>\n",
              "    </thead>\n",
              "    <tbody>\n",
              "        <tr>\n",
              "            <td>Atlanta</td>\n",
              "            <td>ATL</td>\n",
              "        </tr>\n",
              "        <tr>\n",
              "            <td>Boston</td>\n",
              "            <td>BOS</td>\n",
              "        </tr>\n",
              "        <tr>\n",
              "            <td>Chicago</td>\n",
              "            <td>ORD</td>\n",
              "        </tr>\n",
              "        <tr>\n",
              "            <td>Dallas</td>\n",
              "            <td>DFW</td>\n",
              "        </tr>\n",
              "        <tr>\n",
              "            <td>Denver</td>\n",
              "            <td>DEN</td>\n",
              "        </tr>\n",
              "        <tr>\n",
              "            <td>Detroit</td>\n",
              "            <td>DTW</td>\n",
              "        </tr>\n",
              "        <tr>\n",
              "            <td>Los Angeles</td>\n",
              "            <td>LAX</td>\n",
              "        </tr>\n",
              "        <tr>\n",
              "            <td>Miami</td>\n",
              "            <td>MIA</td>\n",
              "        </tr>\n",
              "        <tr>\n",
              "            <td>New York</td>\n",
              "            <td>JFK</td>\n",
              "        </tr>\n",
              "        <tr>\n",
              "            <td>Newark</td>\n",
              "            <td>EWR</td>\n",
              "        </tr>\n",
              "        <tr>\n",
              "            <td>Oakland</td>\n",
              "            <td>OAK</td>\n",
              "        </tr>\n",
              "        <tr>\n",
              "            <td>Philadelphia</td>\n",
              "            <td>PHL</td>\n",
              "        </tr>\n",
              "        <tr>\n",
              "            <td>San Francisco</td>\n",
              "            <td>SFO</td>\n",
              "        </tr>\n",
              "        <tr>\n",
              "            <td>Washington DC</td>\n",
              "            <td>IAD</td>\n",
              "        </tr>\n",
              "    </tbody>\n",
              "</table>"
            ]
          },
          "metadata": {},
          "execution_count": 9
        }
      ]
    },
    {
      "cell_type": "code",
      "source": [
        "df2 = pd.read_csv(io.BytesIO(uploaded['flight_details.csv']))\n",
        "df2 = df2.rename(columns={'segmentsAirlineName': 'Airline', 'segmentsCabinCode': 'SeatType'})\n",
        "df2['Airline'] = df2['Airline'].str.strip().str.lower().replace('[^a-zA-Z0-9]', '_', regex=True)\n",
        "df2['SeatType'] = df2['SeatType'].str.strip().str.lower().replace('[^a-zA-Z0-9]', '_', regex=True)"
      ],
      "metadata": {
        "id": "KY9nM_LYrx9I"
      },
      "execution_count": 10,
      "outputs": []
    },
    {
      "cell_type": "code",
      "source": [
        "3%sql --persist df2\n",
        "%sql SELECT DISTINCT Airline FROM df2"
      ],
      "metadata": {
        "colab": {
          "base_uri": "https://localhost:8080/",
          "height": 243
        },
        "id": "YUVUxBuNt_Sb",
        "outputId": "235f4a00-5648-47a3-c79a-d2e75a475570"
      },
      "execution_count": 12,
      "outputs": [
        {
          "output_type": "stream",
          "name": "stdout",
          "text": [
            " * sqlite://\n",
            " * sqlite://\n",
            "Done.\n"
          ]
        },
        {
          "output_type": "execute_result",
          "data": {
            "text/plain": [
              "[('delta',),\n",
              " ('jetblue_airways',),\n",
              " ('american_airlines',),\n",
              " ('frontier_airlines',),\n",
              " ('united',),\n",
              " ('spirit_airlines',),\n",
              " ('alaska_airlines',)]"
            ],
            "text/html": [
              "<table>\n",
              "    <thead>\n",
              "        <tr>\n",
              "            <th>Airline</th>\n",
              "        </tr>\n",
              "    </thead>\n",
              "    <tbody>\n",
              "        <tr>\n",
              "            <td>delta</td>\n",
              "        </tr>\n",
              "        <tr>\n",
              "            <td>jetblue_airways</td>\n",
              "        </tr>\n",
              "        <tr>\n",
              "            <td>american_airlines</td>\n",
              "        </tr>\n",
              "        <tr>\n",
              "            <td>frontier_airlines</td>\n",
              "        </tr>\n",
              "        <tr>\n",
              "            <td>united</td>\n",
              "        </tr>\n",
              "        <tr>\n",
              "            <td>spirit_airlines</td>\n",
              "        </tr>\n",
              "        <tr>\n",
              "            <td>alaska_airlines</td>\n",
              "        </tr>\n",
              "    </tbody>\n",
              "</table>"
            ]
          },
          "metadata": {},
          "execution_count": 12
        }
      ]
    },
    {
      "cell_type": "code",
      "source": [
        "%sql SELECT DISTINCT SeatType FROM df2"
      ],
      "metadata": {
        "colab": {
          "base_uri": "https://localhost:8080/",
          "height": 162
        },
        "id": "bbNuhOPYuEX1",
        "outputId": "ae9e8034-acc0-460f-8eb8-fda675910da6"
      },
      "execution_count": 13,
      "outputs": [
        {
          "output_type": "stream",
          "name": "stdout",
          "text": [
            " * sqlite://\n",
            "Done.\n"
          ]
        },
        {
          "output_type": "execute_result",
          "data": {
            "text/plain": [
              "[('coach',), ('first',), ('premium_coach',), ('business',)]"
            ],
            "text/html": [
              "<table>\n",
              "    <thead>\n",
              "        <tr>\n",
              "            <th>SeatType</th>\n",
              "        </tr>\n",
              "    </thead>\n",
              "    <tbody>\n",
              "        <tr>\n",
              "            <td>coach</td>\n",
              "        </tr>\n",
              "        <tr>\n",
              "            <td>first</td>\n",
              "        </tr>\n",
              "        <tr>\n",
              "            <td>premium_coach</td>\n",
              "        </tr>\n",
              "        <tr>\n",
              "            <td>business</td>\n",
              "        </tr>\n",
              "    </tbody>\n",
              "</table>"
            ]
          },
          "metadata": {},
          "execution_count": 13
        }
      ]
    },
    {
      "cell_type": "code",
      "source": [
        "print(\"Welcome to the Flight Fare Information Visualization Software!\")\n",
        "print(\"You can compare average airFare based on the following variables:\")\n",
        "print(\"- destinationAirport\")\n",
        "print(\"- Airline\")\n",
        "print(\"- SeatType\")\n",
        "print(\"Variables have to be inputted exactly, and the filter options are shown above; the airport codes, Airline, and SeatType \")\n",
        "\n",
        "# User inputs\n",
        "origin_airport = input(\"Enter the airport you want to fly from: \")\n",
        "comparison_variable = input(\"Enter the variable to compare:\")\n",
        "\n",
        "# If user wants to filter by any value\n",
        "filter_variable = input(\"Enter the filter variable (press Enter if none): \")\n",
        "if filter_variable:\n",
        "    filter_value = input(f\"Enter the filter value for {filter_variable} (press Enter for all): \")\n",
        "else:\n",
        "    filter_value = 'All'\n",
        "\n",
        "# Map user input for filter_variable to the actual column name\n",
        "column_name_mapping = {\n",
        "    'destinationAirport': 'destinationAirport',\n",
        "    'Airline': 'Airline',\n",
        "    'SeatType': 'SeatType'\n",
        "}\n",
        "\n",
        "filter_variable_column = column_name_mapping.get(filter_variable, None) if filter_variable else None\n",
        "\n",
        "# Filter data based on user input\n",
        "filtered_data = df2[df2['startingAirport'] == origin_airport]\n",
        "\n",
        "if filter_variable_column is not None and filter_value != 'All':\n",
        "    # Check if filter_value is not empty before applying the filtering condition\n",
        "    if filter_value:\n",
        "        filtered_data = filtered_data[filtered_data[filter_variable_column] == filter_value]\n",
        "\n",
        "# Compare\n",
        "comparison_data = filtered_data.groupby(comparison_variable)['totalFare'].mean().reset_index()\n",
        "\n",
        "#Visualize\n",
        "if filter_variable_column is not None:\n",
        "    grouped_data = filtered_data.groupby([comparison_variable, filter_variable_column])['totalFare'].mean().unstack()\n",
        "    grouped_data.plot(kind='bar', width=0.35, figsize=(12, 6))\n",
        "    plt.xlabel(comparison_variable)\n",
        "    plt.ylabel('Average Total Fare')\n",
        "    plt.title(f'Average Total Fare from {origin_airport} by {comparison_variable} and {filter_variable}')\n",
        "    plt.legend(title=filter_variable_column, title_fontsize='9')\n",
        "else:\n",
        "    comparison_data.plot(kind='bar', x=comparison_variable, y='totalFare', figsize=(5, 3))\n",
        "    plt.xlabel(comparison_variable)\n",
        "    plt.ylabel('Average Total Fare')\n",
        "    plt.title(f'Average Total Fare from {origin_airport} by {comparison_variable}')\n",
        "\n",
        "plt.show()"
      ],
      "metadata": {
        "colab": {
          "base_uri": "https://localhost:8080/",
          "height": 852
        },
        "outputId": "2c94d33e-bee9-4509-c30a-5add6a123d29",
        "id": "HL3bDeK550Ei"
      },
      "execution_count": 14,
      "outputs": [
        {
          "name": "stdout",
          "output_type": "stream",
          "text": [
            "Welcome to the Flight Fare Information Visualization Software!\n",
            "You can compare average airFare based on the following variables:\n",
            "- destinationAirport\n",
            "- Airline\n",
            "- SeatType\n",
            "Variables have to be inputted exactly, and the filter options are shown above; the airport codes, Airline, and SeatType \n",
            "Enter the airport you want to fly from: ORD\n",
            "Enter the variable to compare:Airline\n",
            "Enter the filter variable (press Enter if none): destinationAirport\n",
            "Enter the filter value for destinationAirport (press Enter for all): \n"
          ]
        },
        {
          "output_type": "display_data",
          "data": {
            "text/plain": [
              "<Figure size 1200x600 with 1 Axes>"
            ],
            "image/png": "[encoded data removed]"
          },
          "metadata": {}
        }
      ]
    },
    {
      "cell_type": "code",
      "source": [
        "#Filtering for most basic option -- coach\n",
        "df2 = df2[df2['SeatType'] == 'coach']\n",
        "\n",
        "# User Input\n",
        "origin_airport = input(\"Enter your origin airport: \")\n",
        "travel_days = int(input(\"Enter the number of days you are traveling: \"))\n",
        "total_budget = float(input(\"Enter your total travel budget minus accommodations and activities: \"))\n",
        "\n",
        "daily_cost = df1[df1['airport_code'] == origin_airport]['daily_cost'].values[0]\n",
        "\n",
        "\n",
        "# Average flight cost for each destination\n",
        "average_flight_cost = df2.groupby('startingAirport')['totalFare'].mean().to_dict()\n",
        "\n",
        "# Total travel cost for each destination\n",
        "df1['average_flight_cost'] = df1['airport_code'].map(average_flight_cost)\n",
        "df1['total_travel_cost'] = df1['daily_cost'] * travel_days + df1['average_flight_cost']\n",
        "\n",
        "filtered_destinations = df1[df1['total_travel_cost'] <= total_budget]\n",
        "\n",
        "\n",
        "# Recommendation\n",
        "top_destinations = filtered_destinations.sort_values(by='total_travel_cost').head(5)\n",
        "\n",
        "print(\"\\nTop 5 Destinations within Budget:\")\n",
        "for index, row in top_destinations.iterrows():\n",
        "    print(f\"{row['city']}, {row['airport_code']} -\")\n",
        "    print(f\"  Food and Miscellaneous cost for {travel_days} days: ${row['daily_cost'] * travel_days:.2f}\")\n",
        "    print(f\"  Average Flight Cost for a Coach Seat: ${row['average_flight_cost']:.2f}\")\n",
        "    print(f\"  Total Cost: ${row['total_travel_cost']:.2f}\")\n",
        "    print(\"-\" * 30)"
      ],
      "metadata": {
        "colab": {
          "base_uri": "https://localhost:8080/"
        },
        "id": "4aXq1piyuoGh",
        "outputId": "c576bd90-de1c-45e1-a2e3-7e6da1df7b52"
      },
      "execution_count": 17,
      "outputs": [
        {
          "output_type": "stream",
          "name": "stdout",
          "text": [
            "Enter your origin airport: LAX\n",
            "Enter the number of days you are traveling: 4\n",
            "Enter your total travel budget minus accommodations and activities: 800\n",
            "\n",
            "Top 5 Destinations within Budget:\n",
            "Atlanta, ATL -\n",
            "  Food and Miscellaneous cost for 4 days: $160.00\n",
            "  Average Flight Cost for a Coach Seat: $272.34\n",
            "  Total Cost: $432.34\n",
            "------------------------------\n",
            "Miami, MIA -\n",
            "  Food and Miscellaneous cost for 4 days: $168.00\n",
            "  Average Flight Cost for a Coach Seat: $268.67\n",
            "  Total Cost: $436.67\n",
            "------------------------------\n",
            "Denver, DEN -\n",
            "  Food and Miscellaneous cost for 4 days: $304.00\n",
            "  Average Flight Cost for a Coach Seat: $270.99\n",
            "  Total Cost: $574.99\n",
            "------------------------------\n",
            "Dallas, DFW -\n",
            "  Food and Miscellaneous cost for 4 days: $312.00\n",
            "  Average Flight Cost for a Coach Seat: $280.11\n",
            "  Total Cost: $592.11\n",
            "------------------------------\n",
            "Chicago, ORD -\n",
            "  Food and Miscellaneous cost for 4 days: $360.00\n",
            "  Average Flight Cost for a Coach Seat: $268.81\n",
            "  Total Cost: $628.81\n",
            "------------------------------\n"
          ]
        }
      ]
    },
    {
      "cell_type": "code",
      "source": [],
      "metadata": {
        "id": "kdjzM1q00kAM"
      },
      "execution_count": null,
      "outputs": []
    }
  ]
}